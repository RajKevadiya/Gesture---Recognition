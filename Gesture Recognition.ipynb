{
 "cells": [
  {
   "cell_type": "code",
   "execution_count": 1,
   "metadata": {},
   "outputs": [],
   "source": [
    "import cv2 \n",
    "import imutils\n",
    "import numpy as np\n",
    "background  = None"
   ]
  },
  {
   "cell_type": "code",
   "execution_count": 2,
   "metadata": {},
   "outputs": [],
   "source": [
    "def run_avg (image, aWeight):\n",
    "    global background\n",
    "    \n",
    "    if background is None:\n",
    "        background =  image.copy().astype(\"float\")\n",
    "        return\n",
    "    \n",
    "    cv2.accumulateWeighted(image, background, aWeight)"
   ]
  },
  {
   "cell_type": "code",
   "execution_count": 3,
   "metadata": {},
   "outputs": [],
   "source": [
    "def segment(image, threshold=28):\n",
    "    global background\n",
    "\n",
    "    difference = cv2.absdiff(background.astype(\"uint8\"), image)\n",
    "\n",
    "    thresholded = cv2.threshold(difference, threshold, 255, cv2.THRESH_BINARY)[1]\n",
    "    \n",
    "    (contours, _) = cv2.findContours(thresholded.copy(), cv2.RETR_EXTERNAL, cv2.CHAIN_APPROX_SIMPLE)\n",
    "    \n",
    "    if len(contours) == 0:\n",
    "        return\n",
    "    \n",
    "    else:\n",
    "        segmented = max(contours, key=cv2.contourArea)\n",
    "        return (thresholded, segmented)"
   ]
  },
  {
   "cell_type": "code",
   "execution_count": 4,
   "metadata": {},
   "outputs": [],
   "source": [
    "if __name__ == \"__main__\":\n",
    " \n",
    "    aWeight = 1.0\n",
    "    \n",
    "    num_frames = 0\n",
    "\n",
    "    Web_Camera = cv2.VideoCapture(0)\n",
    "\n",
    "    top, right, bottom, left = 100, 400, 400, 600\n",
    "\n",
    "    while(True):\n",
    "        (grabbed, frame) = Web_Camera.read()\n",
    "\n",
    "        frame = imutils.resize(frame, width=800)\n",
    "\n",
    "        frame = cv2.flip(frame, 1)\n",
    "        \n",
    "        frame_0 = frame.copy()\n",
    "        index =  -1\n",
    "        thickness =1\n",
    "        color = (0, 0, 255)\n",
    "\n",
    "        (height, width) = frame.shape[:2]\n",
    "\n",
    "        roi = frame[top:bottom, right:left]\n",
    "\n",
    "\n",
    "        gray = cv2.cvtColor(roi, cv2.COLOR_BGR2GRAY)\n",
    "        Blur = cv2.GaussianBlur(gray, (7, 7), 0)\n",
    "\n",
    "        if num_frames < 30:\n",
    "            run_avg(gray, aWeight)\n",
    "        else:\n",
    "\n",
    "            hand = segment(Blur)\n",
    "\n",
    "            if hand is not None:\n",
    "        \n",
    "                (thresholded, segmented) = hand\n",
    "\n",
    "                cv2.drawContours(frame_0, [segmented + (right, top)], index, color, thickness)\n",
    "                cv2.imshow(\"With_Threshold\", thresholded)\n",
    "\n",
    "        cv2.rectangle(frame_0, (left, top), (right, bottom), (0,0,255), 1)\n",
    "\n",
    "        num_frames += 1\n",
    "\n",
    "        cv2.imshow(\"Video_Capture \", frame_0)\n",
    "\n",
    "        keypress = cv2.waitKey(1) & 0xFF\n",
    "\n",
    "\n",
    "        if keypress == ord(\"q\"):\n",
    "            break\n",
    "\n",
    "Web_Camera.release()\n",
    "cv2.destroyAllWindows()"
   ]
  }
 ],
 "metadata": {
  "kernelspec": {
   "display_name": "Python 3",
   "language": "python",
   "name": "python3"
  },
  "language_info": {
   "codemirror_mode": {
    "name": "ipython",
    "version": 3
   },
   "file_extension": ".py",
   "mimetype": "text/x-python",
   "name": "python",
   "nbconvert_exporter": "python",
   "pygments_lexer": "ipython3",
   "version": "3.8.5"
  }
 },
 "nbformat": 4,
 "nbformat_minor": 4
}
